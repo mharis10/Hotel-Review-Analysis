{
  "nbformat": 4,
  "nbformat_minor": 0,
  "metadata": {
    "colab": {
      "name": "hotel_reviews_updated.ipynb",
      "provenance": [],
      "collapsed_sections": []
    },
    "kernelspec": {
      "name": "python3",
      "display_name": "Python 3"
    },
    "language_info": {
      "name": "python"
    }
  },
  "cells": [
    {
      "cell_type": "markdown",
      "source": [
        "###Exploratory Data Analysis"
      ],
      "metadata": {
        "id": "cGOIO9UE9Ayh"
      }
    },
    {
      "cell_type": "code",
      "execution_count": 2,
      "metadata": {
        "id": "utzYHcASLgo3"
      },
      "outputs": [],
      "source": [
        "#importing required libraries and modules\n",
        "import pandas as pd\n",
        "import numpy as np\n",
        "import matplotlib.pyplot as plt\n"
      ]
    },
    {
      "cell_type": "code",
      "source": [
        "#reading the data file into a pandas dataframe\n",
        "data = pd.read_csv('Hotel_Reviews.csv')"
      ],
      "metadata": {
        "id": "8p42FVNZMPcg"
      },
      "execution_count": 36,
      "outputs": []
    },
    {
      "cell_type": "code",
      "source": [
        "#displaying first 5 rows of the dataframe\n",
        "data.head()"
      ],
      "metadata": {
        "colab": {
          "base_uri": "https://localhost:8080/",
          "height": 739
        },
        "id": "GaeWl_c9YA63",
        "outputId": "f6252d47-da9f-42b6-96ba-132a0917efac"
      },
      "execution_count": 37,
      "outputs": [
        {
          "output_type": "execute_result",
          "data": {
            "text/plain": [
              "                                       Hotel_Address  \\\n",
              "0   s Gravesandestraat 55 Oost 1092 AA Amsterdam ...   \n",
              "1   s Gravesandestraat 55 Oost 1092 AA Amsterdam ...   \n",
              "2   s Gravesandestraat 55 Oost 1092 AA Amsterdam ...   \n",
              "3   s Gravesandestraat 55 Oost 1092 AA Amsterdam ...   \n",
              "4   s Gravesandestraat 55 Oost 1092 AA Amsterdam ...   \n",
              "\n",
              "   Additional_Number_of_Scoring Review_Date  Average_Score   Hotel_Name  \\\n",
              "0                           194    8/3/2017            7.7  Hotel Arena   \n",
              "1                           194    8/3/2017            7.7  Hotel Arena   \n",
              "2                           194   7/31/2017            7.7  Hotel Arena   \n",
              "3                           194   7/31/2017            7.7  Hotel Arena   \n",
              "4                           194   7/24/2017            7.7  Hotel Arena   \n",
              "\n",
              "  Reviewer_Nationality                                    Negative_Review  \\\n",
              "0              Russia    I am so angry that i made this post available...   \n",
              "1             Ireland                                         No Negative   \n",
              "2           Australia    Rooms are nice but for elderly a bit difficul...   \n",
              "3      United Kingdom    My room was dirty and I was afraid to walk ba...   \n",
              "4         New Zealand    You When I booked with your company on line y...   \n",
              "\n",
              "   Review_Total_Negative_Word_Counts  Total_Number_of_Reviews  \\\n",
              "0                                397                     1403   \n",
              "1                                  0                     1403   \n",
              "2                                 42                     1403   \n",
              "3                                210                     1403   \n",
              "4                                140                     1403   \n",
              "\n",
              "                                     Positive_Review  \\\n",
              "0   Only the park outside of the hotel was beauti...   \n",
              "1   No real complaints the hotel was great great ...   \n",
              "2   Location was good and staff were ok It is cut...   \n",
              "3   Great location in nice surroundings the bar a...   \n",
              "4    Amazing location and building Romantic setting    \n",
              "\n",
              "   Review_Total_Positive_Word_Counts  \\\n",
              "0                                 11   \n",
              "1                                105   \n",
              "2                                 21   \n",
              "3                                 26   \n",
              "4                                  8   \n",
              "\n",
              "   Total_Number_of_Reviews_Reviewer_Has_Given  Reviewer_Score  \\\n",
              "0                                           7             2.9   \n",
              "1                                           7             7.5   \n",
              "2                                           9             7.1   \n",
              "3                                           1             3.8   \n",
              "4                                           3             6.7   \n",
              "\n",
              "                                                Tags days_since_review  \\\n",
              "0  [' Leisure trip ', ' Couple ', ' Duplex Double...            0 days   \n",
              "1  [' Leisure trip ', ' Couple ', ' Duplex Double...            0 days   \n",
              "2  [' Leisure trip ', ' Family with young childre...            3 days   \n",
              "3  [' Leisure trip ', ' Solo traveler ', ' Duplex...            3 days   \n",
              "4  [' Leisure trip ', ' Couple ', ' Suite ', ' St...           10 days   \n",
              "\n",
              "         lat       lng  \n",
              "0  52.360576  4.915968  \n",
              "1  52.360576  4.915968  \n",
              "2  52.360576  4.915968  \n",
              "3  52.360576  4.915968  \n",
              "4  52.360576  4.915968  "
            ],
            "text/html": [
              "\n",
              "  <div id=\"df-7edce464-c0cc-4482-84a4-22b612565324\">\n",
              "    <div class=\"colab-df-container\">\n",
              "      <div>\n",
              "<style scoped>\n",
              "    .dataframe tbody tr th:only-of-type {\n",
              "        vertical-align: middle;\n",
              "    }\n",
              "\n",
              "    .dataframe tbody tr th {\n",
              "        vertical-align: top;\n",
              "    }\n",
              "\n",
              "    .dataframe thead th {\n",
              "        text-align: right;\n",
              "    }\n",
              "</style>\n",
              "<table border=\"1\" class=\"dataframe\">\n",
              "  <thead>\n",
              "    <tr style=\"text-align: right;\">\n",
              "      <th></th>\n",
              "      <th>Hotel_Address</th>\n",
              "      <th>Additional_Number_of_Scoring</th>\n",
              "      <th>Review_Date</th>\n",
              "      <th>Average_Score</th>\n",
              "      <th>Hotel_Name</th>\n",
              "      <th>Reviewer_Nationality</th>\n",
              "      <th>Negative_Review</th>\n",
              "      <th>Review_Total_Negative_Word_Counts</th>\n",
              "      <th>Total_Number_of_Reviews</th>\n",
              "      <th>Positive_Review</th>\n",
              "      <th>Review_Total_Positive_Word_Counts</th>\n",
              "      <th>Total_Number_of_Reviews_Reviewer_Has_Given</th>\n",
              "      <th>Reviewer_Score</th>\n",
              "      <th>Tags</th>\n",
              "      <th>days_since_review</th>\n",
              "      <th>lat</th>\n",
              "      <th>lng</th>\n",
              "    </tr>\n",
              "  </thead>\n",
              "  <tbody>\n",
              "    <tr>\n",
              "      <th>0</th>\n",
              "      <td>s Gravesandestraat 55 Oost 1092 AA Amsterdam ...</td>\n",
              "      <td>194</td>\n",
              "      <td>8/3/2017</td>\n",
              "      <td>7.7</td>\n",
              "      <td>Hotel Arena</td>\n",
              "      <td>Russia</td>\n",
              "      <td>I am so angry that i made this post available...</td>\n",
              "      <td>397</td>\n",
              "      <td>1403</td>\n",
              "      <td>Only the park outside of the hotel was beauti...</td>\n",
              "      <td>11</td>\n",
              "      <td>7</td>\n",
              "      <td>2.9</td>\n",
              "      <td>[' Leisure trip ', ' Couple ', ' Duplex Double...</td>\n",
              "      <td>0 days</td>\n",
              "      <td>52.360576</td>\n",
              "      <td>4.915968</td>\n",
              "    </tr>\n",
              "    <tr>\n",
              "      <th>1</th>\n",
              "      <td>s Gravesandestraat 55 Oost 1092 AA Amsterdam ...</td>\n",
              "      <td>194</td>\n",
              "      <td>8/3/2017</td>\n",
              "      <td>7.7</td>\n",
              "      <td>Hotel Arena</td>\n",
              "      <td>Ireland</td>\n",
              "      <td>No Negative</td>\n",
              "      <td>0</td>\n",
              "      <td>1403</td>\n",
              "      <td>No real complaints the hotel was great great ...</td>\n",
              "      <td>105</td>\n",
              "      <td>7</td>\n",
              "      <td>7.5</td>\n",
              "      <td>[' Leisure trip ', ' Couple ', ' Duplex Double...</td>\n",
              "      <td>0 days</td>\n",
              "      <td>52.360576</td>\n",
              "      <td>4.915968</td>\n",
              "    </tr>\n",
              "    <tr>\n",
              "      <th>2</th>\n",
              "      <td>s Gravesandestraat 55 Oost 1092 AA Amsterdam ...</td>\n",
              "      <td>194</td>\n",
              "      <td>7/31/2017</td>\n",
              "      <td>7.7</td>\n",
              "      <td>Hotel Arena</td>\n",
              "      <td>Australia</td>\n",
              "      <td>Rooms are nice but for elderly a bit difficul...</td>\n",
              "      <td>42</td>\n",
              "      <td>1403</td>\n",
              "      <td>Location was good and staff were ok It is cut...</td>\n",
              "      <td>21</td>\n",
              "      <td>9</td>\n",
              "      <td>7.1</td>\n",
              "      <td>[' Leisure trip ', ' Family with young childre...</td>\n",
              "      <td>3 days</td>\n",
              "      <td>52.360576</td>\n",
              "      <td>4.915968</td>\n",
              "    </tr>\n",
              "    <tr>\n",
              "      <th>3</th>\n",
              "      <td>s Gravesandestraat 55 Oost 1092 AA Amsterdam ...</td>\n",
              "      <td>194</td>\n",
              "      <td>7/31/2017</td>\n",
              "      <td>7.7</td>\n",
              "      <td>Hotel Arena</td>\n",
              "      <td>United Kingdom</td>\n",
              "      <td>My room was dirty and I was afraid to walk ba...</td>\n",
              "      <td>210</td>\n",
              "      <td>1403</td>\n",
              "      <td>Great location in nice surroundings the bar a...</td>\n",
              "      <td>26</td>\n",
              "      <td>1</td>\n",
              "      <td>3.8</td>\n",
              "      <td>[' Leisure trip ', ' Solo traveler ', ' Duplex...</td>\n",
              "      <td>3 days</td>\n",
              "      <td>52.360576</td>\n",
              "      <td>4.915968</td>\n",
              "    </tr>\n",
              "    <tr>\n",
              "      <th>4</th>\n",
              "      <td>s Gravesandestraat 55 Oost 1092 AA Amsterdam ...</td>\n",
              "      <td>194</td>\n",
              "      <td>7/24/2017</td>\n",
              "      <td>7.7</td>\n",
              "      <td>Hotel Arena</td>\n",
              "      <td>New Zealand</td>\n",
              "      <td>You When I booked with your company on line y...</td>\n",
              "      <td>140</td>\n",
              "      <td>1403</td>\n",
              "      <td>Amazing location and building Romantic setting</td>\n",
              "      <td>8</td>\n",
              "      <td>3</td>\n",
              "      <td>6.7</td>\n",
              "      <td>[' Leisure trip ', ' Couple ', ' Suite ', ' St...</td>\n",
              "      <td>10 days</td>\n",
              "      <td>52.360576</td>\n",
              "      <td>4.915968</td>\n",
              "    </tr>\n",
              "  </tbody>\n",
              "</table>\n",
              "</div>\n",
              "      <button class=\"colab-df-convert\" onclick=\"convertToInteractive('df-7edce464-c0cc-4482-84a4-22b612565324')\"\n",
              "              title=\"Convert this dataframe to an interactive table.\"\n",
              "              style=\"display:none;\">\n",
              "        \n",
              "  <svg xmlns=\"http://www.w3.org/2000/svg\" height=\"24px\"viewBox=\"0 0 24 24\"\n",
              "       width=\"24px\">\n",
              "    <path d=\"M0 0h24v24H0V0z\" fill=\"none\"/>\n",
              "    <path d=\"M18.56 5.44l.94 2.06.94-2.06 2.06-.94-2.06-.94-.94-2.06-.94 2.06-2.06.94zm-11 1L8.5 8.5l.94-2.06 2.06-.94-2.06-.94L8.5 2.5l-.94 2.06-2.06.94zm10 10l.94 2.06.94-2.06 2.06-.94-2.06-.94-.94-2.06-.94 2.06-2.06.94z\"/><path d=\"M17.41 7.96l-1.37-1.37c-.4-.4-.92-.59-1.43-.59-.52 0-1.04.2-1.43.59L10.3 9.45l-7.72 7.72c-.78.78-.78 2.05 0 2.83L4 21.41c.39.39.9.59 1.41.59.51 0 1.02-.2 1.41-.59l7.78-7.78 2.81-2.81c.8-.78.8-2.07 0-2.86zM5.41 20L4 18.59l7.72-7.72 1.47 1.35L5.41 20z\"/>\n",
              "  </svg>\n",
              "      </button>\n",
              "      \n",
              "  <style>\n",
              "    .colab-df-container {\n",
              "      display:flex;\n",
              "      flex-wrap:wrap;\n",
              "      gap: 12px;\n",
              "    }\n",
              "\n",
              "    .colab-df-convert {\n",
              "      background-color: #E8F0FE;\n",
              "      border: none;\n",
              "      border-radius: 50%;\n",
              "      cursor: pointer;\n",
              "      display: none;\n",
              "      fill: #1967D2;\n",
              "      height: 32px;\n",
              "      padding: 0 0 0 0;\n",
              "      width: 32px;\n",
              "    }\n",
              "\n",
              "    .colab-df-convert:hover {\n",
              "      background-color: #E2EBFA;\n",
              "      box-shadow: 0px 1px 2px rgba(60, 64, 67, 0.3), 0px 1px 3px 1px rgba(60, 64, 67, 0.15);\n",
              "      fill: #174EA6;\n",
              "    }\n",
              "\n",
              "    [theme=dark] .colab-df-convert {\n",
              "      background-color: #3B4455;\n",
              "      fill: #D2E3FC;\n",
              "    }\n",
              "\n",
              "    [theme=dark] .colab-df-convert:hover {\n",
              "      background-color: #434B5C;\n",
              "      box-shadow: 0px 1px 3px 1px rgba(0, 0, 0, 0.15);\n",
              "      filter: drop-shadow(0px 1px 2px rgba(0, 0, 0, 0.3));\n",
              "      fill: #FFFFFF;\n",
              "    }\n",
              "  </style>\n",
              "\n",
              "      <script>\n",
              "        const buttonEl =\n",
              "          document.querySelector('#df-7edce464-c0cc-4482-84a4-22b612565324 button.colab-df-convert');\n",
              "        buttonEl.style.display =\n",
              "          google.colab.kernel.accessAllowed ? 'block' : 'none';\n",
              "\n",
              "        async function convertToInteractive(key) {\n",
              "          const element = document.querySelector('#df-7edce464-c0cc-4482-84a4-22b612565324');\n",
              "          const dataTable =\n",
              "            await google.colab.kernel.invokeFunction('convertToInteractive',\n",
              "                                                     [key], {});\n",
              "          if (!dataTable) return;\n",
              "\n",
              "          const docLinkHtml = 'Like what you see? Visit the ' +\n",
              "            '<a target=\"_blank\" href=https://colab.research.google.com/notebooks/data_table.ipynb>data table notebook</a>'\n",
              "            + ' to learn more about interactive tables.';\n",
              "          element.innerHTML = '';\n",
              "          dataTable['output_type'] = 'display_data';\n",
              "          await google.colab.output.renderOutput(dataTable, element);\n",
              "          const docLink = document.createElement('div');\n",
              "          docLink.innerHTML = docLinkHtml;\n",
              "          element.appendChild(docLink);\n",
              "        }\n",
              "      </script>\n",
              "    </div>\n",
              "  </div>\n",
              "  "
            ]
          },
          "metadata": {},
          "execution_count": 37
        }
      ]
    },
    {
      "cell_type": "markdown",
      "source": [
        "Shape of the dataset"
      ],
      "metadata": {
        "id": "YxMIg5WgXvnU"
      }
    },
    {
      "cell_type": "code",
      "source": [
        "#printing the shape of the dataset\n",
        "print(\"The shape of the dataset is\", data.shape)"
      ],
      "metadata": {
        "colab": {
          "base_uri": "https://localhost:8080/"
        },
        "id": "b2OnmJEYXkEj",
        "outputId": "64cf18d7-93e6-4aef-ee78-b68fd497bfc4"
      },
      "execution_count": 38,
      "outputs": [
        {
          "output_type": "stream",
          "name": "stdout",
          "text": [
            "The shape of the dataset is (515738, 17)\n"
          ]
        }
      ]
    },
    {
      "cell_type": "markdown",
      "source": [
        "Converting reviewer_score into integers from 1 to 10"
      ],
      "metadata": {
        "id": "Z8SYL4V_X4cx"
      }
    },
    {
      "cell_type": "code",
      "source": [
        "#current datatype of reviewer_score\n",
        "print(\"Current data type of Reviewer_Score column is\", data['Reviewer_Score'].dtype)"
      ],
      "metadata": {
        "colab": {
          "base_uri": "https://localhost:8080/"
        },
        "id": "73sfawmuYMpt",
        "outputId": "8e64b1a5-8660-4d0a-a49f-3bb6ba7c7959"
      },
      "execution_count": 39,
      "outputs": [
        {
          "output_type": "stream",
          "name": "stdout",
          "text": [
            "Current data type of Reviewer_Score column is float64\n"
          ]
        }
      ]
    },
    {
      "cell_type": "code",
      "source": [
        "#convert from float to integer\n",
        "data['Reviewer_Score'] = data['Reviewer_Score'].astype('int')"
      ],
      "metadata": {
        "id": "2hhw4oTnZfoP"
      },
      "execution_count": 40,
      "outputs": []
    },
    {
      "cell_type": "code",
      "source": [
        "#confirming that reviewer_score has been converted to int\n",
        "print(\"Current data type of Reviewer_Score column is\", data['Reviewer_Score'].dtype)"
      ],
      "metadata": {
        "colab": {
          "base_uri": "https://localhost:8080/"
        },
        "id": "59Tg1P3XbfcD",
        "outputId": "06d9a4bc-2413-4b85-f25b-9c8e5064c12b"
      },
      "execution_count": 8,
      "outputs": [
        {
          "output_type": "stream",
          "name": "stdout",
          "text": [
            "Current data type of Reviewer_Score column is int64\n"
          ]
        }
      ]
    },
    {
      "cell_type": "code",
      "source": [
        "#ensuring that the scores are between 1 and 10 by printing out the unique values in the reviewer_score column\n",
        "print(\"Unique values in Reviewer_Score column are\", data.Reviewer_Score.unique())"
      ],
      "metadata": {
        "colab": {
          "base_uri": "https://localhost:8080/"
        },
        "id": "jlBc4-VWaF9G",
        "outputId": "ac94b7d4-81a1-4723-d987-d1da521efb56"
      },
      "execution_count": 9,
      "outputs": [
        {
          "output_type": "stream",
          "name": "stdout",
          "text": [
            "Unique values in Reviewer_Score column are [ 2  7  3  6  4 10  5  9  8]\n"
          ]
        }
      ]
    },
    {
      "cell_type": "markdown",
      "source": [
        "Distribution of Reviews"
      ],
      "metadata": {
        "id": "E6kOIVD8b94D"
      }
    },
    {
      "cell_type": "markdown",
      "source": [
        "The distribution of reviews is expected to be normally or uniformly distributed, a slightly negative skeweness may be observed. The mean of the distribution is expected to be around 5 to 6. It is unlikely that the rating will be less than 2 for most hotels and more values will be concentrated towards the center or left side of a normal distribution curve. Majority of the values are expected to fall between 4.5 to 9. Scoring a 10/10 review for a hotel is also less probable."
      ],
      "metadata": {
        "id": "246_VvbIdQmx"
      }
    },
    {
      "cell_type": "code",
      "source": [
        "#actual distribution of the reviews using a histogram\n",
        "hist = data['Reviewer_Score'].hist()"
      ],
      "metadata": {
        "colab": {
          "base_uri": "https://localhost:8080/",
          "height": 265
        },
        "id": "YAnUO0uvb_xW",
        "outputId": "e623ad76-8e37-4045-dc12-a37e033b0961"
      },
      "execution_count": 10,
      "outputs": [
        {
          "output_type": "display_data",
          "data": {
            "text/plain": [
              "<Figure size 432x288 with 1 Axes>"
            ],
            "image/png": "[encoded data removed]"
          },
          "metadata": {
            "needs_background": "light"
          }
        }
      ]
    },
    {
      "cell_type": "markdown",
      "source": [
        "Observing the histogram plotted above, the actual distribution is far more negatviely skewed than expected. Surprisingly, a minimal amount of reviews fall in the range from 5 to 6. Majority of the hotels have reviews greater than or equal to 7. This indicates that the dataset contains a majority of popular hotels. "
      ],
      "metadata": {
        "id": "X4NJNHMVe6jI"
      }
    },
    {
      "cell_type": "code",
      "source": [
        "#taking a look at the average of the reviews\n",
        "print(\"Average of the reviews is\", data['Reviewer_Score'].mean())"
      ],
      "metadata": {
        "colab": {
          "base_uri": "https://localhost:8080/"
        },
        "id": "bmV2VMwAjSan",
        "outputId": "caa17250-e3ee-4c74-899e-e8f646eec2fe"
      },
      "execution_count": 11,
      "outputs": [
        {
          "output_type": "stream",
          "name": "stdout",
          "text": [
            "Average of the reviews is 8.012880571142713\n"
          ]
        }
      ]
    },
    {
      "cell_type": "markdown",
      "source": [
        "A mean of 8.01 is significantly higher than the expected mean of 5.5. This further strengthens the claim that the dataset mainly consists of popular hotels."
      ],
      "metadata": {
        "id": "QYlP4x3GjkQE"
      }
    },
    {
      "cell_type": "markdown",
      "source": [
        "Potential issue with the distribution for the classification problem"
      ],
      "metadata": {
        "id": "Mr1XuDVAj-0g"
      }
    },
    {
      "cell_type": "markdown",
      "source": [
        "Since the data is negatively skewed, this will affect the performance of our classification model. The reason for this is that the tail region (left hand side in this case) may act as an outlier for the model. A very less number of reviews less than 5 may make these data points outliers in our dataset and outliers adversely affect the performance of the classification model. The skewed data will need to be transformed close to a normal distribution. A decreased model accuracy will be observed if skewed data is used"
      ],
      "metadata": {
        "id": "I_0KflPolf67"
      }
    },
    {
      "cell_type": "markdown",
      "source": [
        "Numeric and Non-Numeric columns"
      ],
      "metadata": {
        "id": "iykHxPPIpPE3"
      }
    },
    {
      "cell_type": "code",
      "source": [
        "#data types of all the columns in the dataframe\n",
        "data.dtypes"
      ],
      "metadata": {
        "colab": {
          "base_uri": "https://localhost:8080/"
        },
        "id": "v_YBYF_1pW3p",
        "outputId": "f7dd0356-863f-4272-c972-6a75cc8a1b8b"
      },
      "execution_count": 12,
      "outputs": [
        {
          "output_type": "execute_result",
          "data": {
            "text/plain": [
              "Hotel_Address                                  object\n",
              "Additional_Number_of_Scoring                    int64\n",
              "Review_Date                                    object\n",
              "Average_Score                                 float64\n",
              "Hotel_Name                                     object\n",
              "Reviewer_Nationality                           object\n",
              "Negative_Review                                object\n",
              "Review_Total_Negative_Word_Counts               int64\n",
              "Total_Number_of_Reviews                         int64\n",
              "Positive_Review                                object\n",
              "Review_Total_Positive_Word_Counts               int64\n",
              "Total_Number_of_Reviews_Reviewer_Has_Given      int64\n",
              "Reviewer_Score                                  int64\n",
              "Tags                                           object\n",
              "days_since_review                              object\n",
              "lat                                           float64\n",
              "lng                                           float64\n",
              "dtype: object"
            ]
          },
          "metadata": {},
          "execution_count": 12
        }
      ]
    },
    {
      "cell_type": "code",
      "source": [
        "#numeric columns\n",
        "numeric = data.select_dtypes(exclude = ['object']).columns.tolist()\n",
        "for i in range(1,len(numeric)):\n",
        "  print(\"Numeric column no.\",i,\"in the dataset:\", numeric[i])"
      ],
      "metadata": {
        "colab": {
          "base_uri": "https://localhost:8080/"
        },
        "id": "5azb8Jk6qKNF",
        "outputId": "3e089d86-3439-4087-a4dc-fb1241c2538f"
      },
      "execution_count": 41,
      "outputs": [
        {
          "output_type": "stream",
          "name": "stdout",
          "text": [
            "Numeric column no. 1 in the dataset: Average_Score\n",
            "Numeric column no. 2 in the dataset: Review_Total_Negative_Word_Counts\n",
            "Numeric column no. 3 in the dataset: Total_Number_of_Reviews\n",
            "Numeric column no. 4 in the dataset: Review_Total_Positive_Word_Counts\n",
            "Numeric column no. 5 in the dataset: Total_Number_of_Reviews_Reviewer_Has_Given\n",
            "Numeric column no. 6 in the dataset: Reviewer_Score\n",
            "Numeric column no. 7 in the dataset: lat\n",
            "Numeric column no. 8 in the dataset: lng\n"
          ]
        }
      ]
    },
    {
      "cell_type": "code",
      "source": [
        "#non-numeric columns\n",
        "non_numeric = data.select_dtypes(include = ['object']).columns.tolist()\n",
        "for i in range(1,len(non_numeric)):\n",
        "  print(\"Non Numeric column no.\",i,\"in the dataset:\", non_numeric[i])"
      ],
      "metadata": {
        "colab": {
          "base_uri": "https://localhost:8080/"
        },
        "id": "eX2_IfYDrWEJ",
        "outputId": "235a9735-6df1-4fd2-aa9c-107726b596c5"
      },
      "execution_count": 42,
      "outputs": [
        {
          "output_type": "stream",
          "name": "stdout",
          "text": [
            "Non Numeric column no. 1 in the dataset: Review_Date\n",
            "Non Numeric column no. 2 in the dataset: Hotel_Name\n",
            "Non Numeric column no. 3 in the dataset: Reviewer_Nationality\n",
            "Non Numeric column no. 4 in the dataset: Negative_Review\n",
            "Non Numeric column no. 5 in the dataset: Positive_Review\n",
            "Non Numeric column no. 6 in the dataset: Tags\n",
            "Non Numeric column no. 7 in the dataset: days_since_review\n"
          ]
        }
      ]
    },
    {
      "cell_type": "markdown",
      "source": [
        "Among the non numeric columns mentioned above, the 'days_since_review', 'Review_Date' and 'Reviewer_Nationality' columns can be turned into numeric type"
      ],
      "metadata": {
        "id": "p1URJTcoICt3"
      }
    },
    {
      "cell_type": "markdown",
      "source": [
        "###Data Wrangling"
      ],
      "metadata": {
        "id": "3HwcPIMg89r9"
      }
    },
    {
      "cell_type": "markdown",
      "source": [
        "Converting the Reviewer_Score column into Binary"
      ],
      "metadata": {
        "id": "Mjop_t6S9HfD"
      }
    },
    {
      "cell_type": "code",
      "source": [
        "#replacing reviews in the range 0-8 with 'not good' and 9,10 with 'good'\n",
        "reviews = range(9)\n",
        "for i in reviews:\n",
        "    data['Reviewer_Score'] = data['Reviewer_Score'].replace(i,'not good')\n",
        "\n",
        "data['Reviewer_Score'] = data['Reviewer_Score'].replace(9,'good')\n",
        "data['Reviewer_Score'] = data['Reviewer_Score'].replace(10,'good')\n"
      ],
      "metadata": {
        "id": "bQu6315J9O6S"
      },
      "execution_count": 43,
      "outputs": []
    },
    {
      "cell_type": "code",
      "source": [
        "#taking a look at the updated Reviewer_Score column\n",
        "data['Reviewer_Score'].head()"
      ],
      "metadata": {
        "colab": {
          "base_uri": "https://localhost:8080/"
        },
        "id": "SemoTqJs_cM_",
        "outputId": "f7c13db3-e007-4583-f493-23d0571eb8ed"
      },
      "execution_count": 44,
      "outputs": [
        {
          "output_type": "execute_result",
          "data": {
            "text/plain": [
              "0    not good\n",
              "1    not good\n",
              "2    not good\n",
              "3    not good\n",
              "4    not good\n",
              "Name: Reviewer_Score, dtype: object"
            ]
          },
          "metadata": {},
          "execution_count": 44
        }
      ]
    },
    {
      "cell_type": "markdown",
      "source": [
        "Converting Reviewer_Score to Binary"
      ],
      "metadata": {
        "id": "i0qsiVotAFbG"
      }
    },
    {
      "cell_type": "code",
      "source": [
        "#converting good to 1 and not good to 0 in the reviewer_score column\n",
        "reviews = {'good': 1,'not good': 0}\n",
        "\n",
        "data.Reviewer_Score = [reviews[item] for item in data.Reviewer_Score]"
      ],
      "metadata": {
        "id": "cL9EBJwRGDWI"
      },
      "execution_count": 45,
      "outputs": []
    },
    {
      "cell_type": "markdown",
      "source": [
        "Converting columns identified in previous parts to numeric"
      ],
      "metadata": {
        "id": "8ChX2AYhHOH1"
      }
    },
    {
      "cell_type": "code",
      "source": [
        "#converting days_since_review column to numeric type\n",
        "data['days_since_review'].head()"
      ],
      "metadata": {
        "colab": {
          "base_uri": "https://localhost:8080/"
        },
        "id": "sJ9SVb0Lskc-",
        "outputId": "adc9c9e1-88ed-43df-f57a-5f6c1d5472c8"
      },
      "execution_count": 46,
      "outputs": [
        {
          "output_type": "execute_result",
          "data": {
            "text/plain": [
              "0     0 days\n",
              "1     0 days\n",
              "2     3 days\n",
              "3     3 days\n",
              "4    10 days\n",
              "Name: days_since_review, dtype: object"
            ]
          },
          "metadata": {},
          "execution_count": 46
        }
      ]
    },
    {
      "cell_type": "markdown",
      "source": [
        "Currently, the values in 'days_since_review' column contains the 'days' and 'day' string. We will exclude this string from the column values and then convert the column type to numeric"
      ],
      "metadata": {
        "id": "d6thqmnbsz-p"
      }
    },
    {
      "cell_type": "code",
      "source": [
        "#replacing 'days' string with empty string '' and converting column to numeric\n",
        "data['days_since_review'] = data['days_since_review'].str.replace(r'days', '')\n",
        "#in some rows, the column contains 'day' instead of 'days'\n",
        "data['days_since_review'] = data['days_since_review'].str.replace(r'day', '')\n",
        "#conversion\n",
        "data['days_since_review'] = data['days_since_review'].astype(int)"
      ],
      "metadata": {
        "id": "EERMzS1ns_Lx"
      },
      "execution_count": 47,
      "outputs": []
    },
    {
      "cell_type": "code",
      "source": [
        "print('The data type of days_since_review column has been converted to', data['days_since_review'].dtype)"
      ],
      "metadata": {
        "colab": {
          "base_uri": "https://localhost:8080/"
        },
        "id": "HbMT55DdtvFW",
        "outputId": "790bd8db-9893-4ad0-a4af-a506fd547c95"
      },
      "execution_count": 48,
      "outputs": [
        {
          "output_type": "stream",
          "name": "stdout",
          "text": [
            "The data type of days_since_review column has been converted to int64\n"
          ]
        }
      ]
    },
    {
      "cell_type": "markdown",
      "source": [
        "Converting Reviewer Nationality column into numeric"
      ],
      "metadata": {
        "id": "0F0jr9-2OxMe"
      }
    },
    {
      "cell_type": "code",
      "source": [
        "data.Reviewer_Nationality=data.Reviewer_Nationality.astype('category').cat.codes"
      ],
      "metadata": {
        "id": "pUT1ZCoZO5fA"
      },
      "execution_count": 49,
      "outputs": []
    },
    {
      "cell_type": "markdown",
      "source": [
        "Converting Review Date to numeric"
      ],
      "metadata": {
        "id": "om-9G1rKRfBj"
      }
    },
    {
      "cell_type": "code",
      "source": [
        "#converting review date to datetime in order to splut day, month and date\n",
        "data['Review_Date']= pd.to_datetime(data['Review_Date'])\n"
      ],
      "metadata": {
        "id": "LRpL_gn4Rjxg"
      },
      "execution_count": 50,
      "outputs": []
    },
    {
      "cell_type": "code",
      "source": [
        "#creating separate columns for day, month and year\n",
        "data['year'] = pd.DatetimeIndex(data['Review_Date']).year\n",
        "data['month'] = pd.DatetimeIndex(data['Review_Date']).month\n",
        "data['day'] = pd.DatetimeIndex(data['Review_Date']).day\n",
        "data"
      ],
      "metadata": {
        "colab": {
          "base_uri": "https://localhost:8080/",
          "height": 1000
        },
        "id": "sEQ_QMKdXnkD",
        "outputId": "fed23e86-baee-43d6-9ad8-8115eccec364"
      },
      "execution_count": 51,
      "outputs": [
        {
          "output_type": "execute_result",
          "data": {
            "text/plain": [
              "                                            Hotel_Address  \\\n",
              "0        s Gravesandestraat 55 Oost 1092 AA Amsterdam ...   \n",
              "1        s Gravesandestraat 55 Oost 1092 AA Amsterdam ...   \n",
              "2        s Gravesandestraat 55 Oost 1092 AA Amsterdam ...   \n",
              "3        s Gravesandestraat 55 Oost 1092 AA Amsterdam ...   \n",
              "4        s Gravesandestraat 55 Oost 1092 AA Amsterdam ...   \n",
              "...                                                   ...   \n",
              "515733  Wurzbachgasse 21 15 Rudolfsheim F nfhaus 1150 ...   \n",
              "515734  Wurzbachgasse 21 15 Rudolfsheim F nfhaus 1150 ...   \n",
              "515735  Wurzbachgasse 21 15 Rudolfsheim F nfhaus 1150 ...   \n",
              "515736  Wurzbachgasse 21 15 Rudolfsheim F nfhaus 1150 ...   \n",
              "515737  Wurzbachgasse 21 15 Rudolfsheim F nfhaus 1150 ...   \n",
              "\n",
              "        Additional_Number_of_Scoring Review_Date  Average_Score  \\\n",
              "0                                194  2017-08-03            7.7   \n",
              "1                                194  2017-08-03            7.7   \n",
              "2                                194  2017-07-31            7.7   \n",
              "3                                194  2017-07-31            7.7   \n",
              "4                                194  2017-07-24            7.7   \n",
              "...                              ...         ...            ...   \n",
              "515733                           168  2015-08-30            8.1   \n",
              "515734                           168  2015-08-22            8.1   \n",
              "515735                           168  2015-08-19            8.1   \n",
              "515736                           168  2015-08-17            8.1   \n",
              "515737                           168  2015-08-09            8.1   \n",
              "\n",
              "                   Hotel_Name  Reviewer_Nationality  \\\n",
              "0                 Hotel Arena                   167   \n",
              "1                 Hotel Arena                    98   \n",
              "2                 Hotel Arena                    14   \n",
              "3                 Hotel Arena                   214   \n",
              "4                 Hotel Arena                   146   \n",
              "...                       ...                   ...   \n",
              "515733  Atlantis Hotel Vienna                   111   \n",
              "515734  Atlantis Hotel Vienna                    66   \n",
              "515735  Atlantis Hotel Vienna                    62   \n",
              "515736  Atlantis Hotel Vienna                   133   \n",
              "515737  Atlantis Hotel Vienna                    92   \n",
              "\n",
              "                                          Negative_Review  \\\n",
              "0        I am so angry that i made this post available...   \n",
              "1                                             No Negative   \n",
              "2        Rooms are nice but for elderly a bit difficul...   \n",
              "3        My room was dirty and I was afraid to walk ba...   \n",
              "4        You When I booked with your company on line y...   \n",
              "...                                                   ...   \n",
              "515733   no trolly or staff to help you take the lugga...   \n",
              "515734           The hotel looks like 3 but surely not 4    \n",
              "515735   The ac was useless It was a hot week in vienn...   \n",
              "515736                                        No Negative   \n",
              "515737       I was in 3rd floor It didn t work Free Wife    \n",
              "\n",
              "        Review_Total_Negative_Word_Counts  Total_Number_of_Reviews  \\\n",
              "0                                     397                     1403   \n",
              "1                                       0                     1403   \n",
              "2                                      42                     1403   \n",
              "3                                     210                     1403   \n",
              "4                                     140                     1403   \n",
              "...                                   ...                      ...   \n",
              "515733                                 14                     2823   \n",
              "515734                                 11                     2823   \n",
              "515735                                 19                     2823   \n",
              "515736                                  0                     2823   \n",
              "515737                                 13                     2823   \n",
              "\n",
              "                                          Positive_Review  \\\n",
              "0        Only the park outside of the hotel was beauti...   \n",
              "1        No real complaints the hotel was great great ...   \n",
              "2        Location was good and staff were ok It is cut...   \n",
              "3        Great location in nice surroundings the bar a...   \n",
              "4         Amazing location and building Romantic setting    \n",
              "...                                                   ...   \n",
              "515733                                           location   \n",
              "515734      Breakfast was ok and we got earlier check in    \n",
              "515735                                        No Positive   \n",
              "515736   The rooms are enormous and really comfortable...   \n",
              "515737                               staff was very kind    \n",
              "\n",
              "        Review_Total_Positive_Word_Counts  \\\n",
              "0                                      11   \n",
              "1                                     105   \n",
              "2                                      21   \n",
              "3                                      26   \n",
              "4                                       8   \n",
              "...                                   ...   \n",
              "515733                                  2   \n",
              "515734                                 11   \n",
              "515735                                  0   \n",
              "515736                                 25   \n",
              "515737                                  6   \n",
              "\n",
              "        Total_Number_of_Reviews_Reviewer_Has_Given  Reviewer_Score  \\\n",
              "0                                                7               0   \n",
              "1                                                7               0   \n",
              "2                                                9               0   \n",
              "3                                                1               0   \n",
              "4                                                3               0   \n",
              "...                                            ...             ...   \n",
              "515733                                           8               0   \n",
              "515734                                          12               0   \n",
              "515735                                           3               0   \n",
              "515736                                           3               0   \n",
              "515737                                           1               0   \n",
              "\n",
              "                                                     Tags  days_since_review  \\\n",
              "0       [' Leisure trip ', ' Couple ', ' Duplex Double...                  0   \n",
              "1       [' Leisure trip ', ' Couple ', ' Duplex Double...                  0   \n",
              "2       [' Leisure trip ', ' Family with young childre...                  3   \n",
              "3       [' Leisure trip ', ' Solo traveler ', ' Duplex...                  3   \n",
              "4       [' Leisure trip ', ' Couple ', ' Suite ', ' St...                 10   \n",
              "...                                                   ...                ...   \n",
              "515733  [' Leisure trip ', ' Family with older childre...                704   \n",
              "515734  [' Leisure trip ', ' Family with young childre...                712   \n",
              "515735  [' Leisure trip ', ' Family with older childre...                715   \n",
              "515736  [' Leisure trip ', ' Group ', ' Standard Tripl...                717   \n",
              "515737  [' Leisure trip ', ' Family with young childre...                725   \n",
              "\n",
              "              lat        lng  year  month  day  \n",
              "0       52.360576   4.915968  2017      8    3  \n",
              "1       52.360576   4.915968  2017      8    3  \n",
              "2       52.360576   4.915968  2017      7   31  \n",
              "3       52.360576   4.915968  2017      7   31  \n",
              "4       52.360576   4.915968  2017      7   24  \n",
              "...           ...        ...   ...    ...  ...  \n",
              "515733  48.203745  16.335677  2015      8   30  \n",
              "515734  48.203745  16.335677  2015      8   22  \n",
              "515735  48.203745  16.335677  2015      8   19  \n",
              "515736  48.203745  16.335677  2015      8   17  \n",
              "515737  48.203745  16.335677  2015      8    9  \n",
              "\n",
              "[515738 rows x 20 columns]"
            ],
            "text/html": [
              "\n",
              "  <div id=\"df-3dacdf2f-a6bb-41eb-b935-600b33f17327\">\n",
              "    <div class=\"colab-df-container\">\n",
              "      <div>\n",
              "<style scoped>\n",
              "    .dataframe tbody tr th:only-of-type {\n",
              "        vertical-align: middle;\n",
              "    }\n",
              "\n",
              "    .dataframe tbody tr th {\n",
              "        vertical-align: top;\n",
              "    }\n",
              "\n",
              "    .dataframe thead th {\n",
              "        text-align: right;\n",
              "    }\n",
              "</style>\n",
              "<table border=\"1\" class=\"dataframe\">\n",
              "  <thead>\n",
              "    <tr style=\"text-align: right;\">\n",
              "      <th></th>\n",
              "      <th>Hotel_Address</th>\n",
              "      <th>Additional_Number_of_Scoring</th>\n",
              "      <th>Review_Date</th>\n",
              "      <th>Average_Score</th>\n",
              "      <th>Hotel_Name</th>\n",
              "      <th>Reviewer_Nationality</th>\n",
              "      <th>Negative_Review</th>\n",
              "      <th>Review_Total_Negative_Word_Counts</th>\n",
              "      <th>Total_Number_of_Reviews</th>\n",
              "      <th>Positive_Review</th>\n",
              "      <th>Review_Total_Positive_Word_Counts</th>\n",
              "      <th>Total_Number_of_Reviews_Reviewer_Has_Given</th>\n",
              "      <th>Reviewer_Score</th>\n",
              "      <th>Tags</th>\n",
              "      <th>days_since_review</th>\n",
              "      <th>lat</th>\n",
              "      <th>lng</th>\n",
              "      <th>year</th>\n",
              "      <th>month</th>\n",
              "      <th>day</th>\n",
              "    </tr>\n",
              "  </thead>\n",
              "  <tbody>\n",
              "    <tr>\n",
              "      <th>0</th>\n",
              "      <td>s Gravesandestraat 55 Oost 1092 AA Amsterdam ...</td>\n",
              "      <td>194</td>\n",
              "      <td>2017-08-03</td>\n",
              "      <td>7.7</td>\n",
              "      <td>Hotel Arena</td>\n",
              "      <td>167</td>\n",
              "      <td>I am so angry that i made this post available...</td>\n",
              "      <td>397</td>\n",
              "      <td>1403</td>\n",
              "      <td>Only the park outside of the hotel was beauti...</td>\n",
              "      <td>11</td>\n",
              "      <td>7</td>\n",
              "      <td>0</td>\n",
              "      <td>[' Leisure trip ', ' Couple ', ' Duplex Double...</td>\n",
              "      <td>0</td>\n",
              "      <td>52.360576</td>\n",
              "      <td>4.915968</td>\n",
              "      <td>2017</td>\n",
              "      <td>8</td>\n",
              "      <td>3</td>\n",
              "    </tr>\n",
              "    <tr>\n",
              "      <th>1</th>\n",
              "      <td>s Gravesandestraat 55 Oost 1092 AA Amsterdam ...</td>\n",
              "      <td>194</td>\n",
              "      <td>2017-08-03</td>\n",
              "      <td>7.7</td>\n",
              "      <td>Hotel Arena</td>\n",
              "      <td>98</td>\n",
              "      <td>No Negative</td>\n",
              "      <td>0</td>\n",
              "      <td>1403</td>\n",
              "      <td>No real complaints the hotel was great great ...</td>\n",
              "      <td>105</td>\n",
              "      <td>7</td>\n",
              "      <td>0</td>\n",
              "      <td>[' Leisure trip ', ' Couple ', ' Duplex Double...</td>\n",
              "      <td>0</td>\n",
              "      <td>52.360576</td>\n",
              "      <td>4.915968</td>\n",
              "      <td>2017</td>\n",
              "      <td>8</td>\n",
              "      <td>3</td>\n",
              "    </tr>\n",
              "    <tr>\n",
              "      <th>2</th>\n",
              "      <td>s Gravesandestraat 55 Oost 1092 AA Amsterdam ...</td>\n",
              "      <td>194</td>\n",
              "      <td>2017-07-31</td>\n",
              "      <td>7.7</td>\n",
              "      <td>Hotel Arena</td>\n",
              "      <td>14</td>\n",
              "      <td>Rooms are nice but for elderly a bit difficul...</td>\n",
              "      <td>42</td>\n",
              "      <td>1403</td>\n",
              "      <td>Location was good and staff were ok It is cut...</td>\n",
              "      <td>21</td>\n",
              "      <td>9</td>\n",
              "      <td>0</td>\n",
              "      <td>[' Leisure trip ', ' Family with young childre...</td>\n",
              "      <td>3</td>\n",
              "      <td>52.360576</td>\n",
              "      <td>4.915968</td>\n",
              "      <td>2017</td>\n",
              "      <td>7</td>\n",
              "      <td>31</td>\n",
              "    </tr>\n",
              "    <tr>\n",
              "      <th>3</th>\n",
              "      <td>s Gravesandestraat 55 Oost 1092 AA Amsterdam ...</td>\n",
              "      <td>194</td>\n",
              "      <td>2017-07-31</td>\n",
              "      <td>7.7</td>\n",
              "      <td>Hotel Arena</td>\n",
              "      <td>214</td>\n",
              "      <td>My room was dirty and I was afraid to walk ba...</td>\n",
              "      <td>210</td>\n",
              "      <td>1403</td>\n",
              "      <td>Great location in nice surroundings the bar a...</td>\n",
              "      <td>26</td>\n",
              "      <td>1</td>\n",
              "      <td>0</td>\n",
              "      <td>[' Leisure trip ', ' Solo traveler ', ' Duplex...</td>\n",
              "      <td>3</td>\n",
              "      <td>52.360576</td>\n",
              "      <td>4.915968</td>\n",
              "      <td>2017</td>\n",
              "      <td>7</td>\n",
              "      <td>31</td>\n",
              "    </tr>\n",
              "    <tr>\n",
              "      <th>4</th>\n",
              "      <td>s Gravesandestraat 55 Oost 1092 AA Amsterdam ...</td>\n",
              "      <td>194</td>\n",
              "      <td>2017-07-24</td>\n",
              "      <td>7.7</td>\n",
              "      <td>Hotel Arena</td>\n",
              "      <td>146</td>\n",
              "      <td>You When I booked with your company on line y...</td>\n",
              "      <td>140</td>\n",
              "      <td>1403</td>\n",
              "      <td>Amazing location and building Romantic setting</td>\n",
              "      <td>8</td>\n",
              "      <td>3</td>\n",
              "      <td>0</td>\n",
              "      <td>[' Leisure trip ', ' Couple ', ' Suite ', ' St...</td>\n",
              "      <td>10</td>\n",
              "      <td>52.360576</td>\n",
              "      <td>4.915968</td>\n",
              "      <td>2017</td>\n",
              "      <td>7</td>\n",
              "      <td>24</td>\n",
              "    </tr>\n",
              "    <tr>\n",
              "      <th>...</th>\n",
              "      <td>...</td>\n",
              "      <td>...</td>\n",
              "      <td>...</td>\n",
              "      <td>...</td>\n",
              "      <td>...</td>\n",
              "      <td>...</td>\n",
              "      <td>...</td>\n",
              "      <td>...</td>\n",
              "      <td>...</td>\n",
              "      <td>...</td>\n",
              "      <td>...</td>\n",
              "      <td>...</td>\n",
              "      <td>...</td>\n",
              "      <td>...</td>\n",
              "      <td>...</td>\n",
              "      <td>...</td>\n",
              "      <td>...</td>\n",
              "      <td>...</td>\n",
              "      <td>...</td>\n",
              "      <td>...</td>\n",
              "    </tr>\n",
              "    <tr>\n",
              "      <th>515733</th>\n",
              "      <td>Wurzbachgasse 21 15 Rudolfsheim F nfhaus 1150 ...</td>\n",
              "      <td>168</td>\n",
              "      <td>2015-08-30</td>\n",
              "      <td>8.1</td>\n",
              "      <td>Atlantis Hotel Vienna</td>\n",
              "      <td>111</td>\n",
              "      <td>no trolly or staff to help you take the lugga...</td>\n",
              "      <td>14</td>\n",
              "      <td>2823</td>\n",
              "      <td>location</td>\n",
              "      <td>2</td>\n",
              "      <td>8</td>\n",
              "      <td>0</td>\n",
              "      <td>[' Leisure trip ', ' Family with older childre...</td>\n",
              "      <td>704</td>\n",
              "      <td>48.203745</td>\n",
              "      <td>16.335677</td>\n",
              "      <td>2015</td>\n",
              "      <td>8</td>\n",
              "      <td>30</td>\n",
              "    </tr>\n",
              "    <tr>\n",
              "      <th>515734</th>\n",
              "      <td>Wurzbachgasse 21 15 Rudolfsheim F nfhaus 1150 ...</td>\n",
              "      <td>168</td>\n",
              "      <td>2015-08-22</td>\n",
              "      <td>8.1</td>\n",
              "      <td>Atlantis Hotel Vienna</td>\n",
              "      <td>66</td>\n",
              "      <td>The hotel looks like 3 but surely not 4</td>\n",
              "      <td>11</td>\n",
              "      <td>2823</td>\n",
              "      <td>Breakfast was ok and we got earlier check in</td>\n",
              "      <td>11</td>\n",
              "      <td>12</td>\n",
              "      <td>0</td>\n",
              "      <td>[' Leisure trip ', ' Family with young childre...</td>\n",
              "      <td>712</td>\n",
              "      <td>48.203745</td>\n",
              "      <td>16.335677</td>\n",
              "      <td>2015</td>\n",
              "      <td>8</td>\n",
              "      <td>22</td>\n",
              "    </tr>\n",
              "    <tr>\n",
              "      <th>515735</th>\n",
              "      <td>Wurzbachgasse 21 15 Rudolfsheim F nfhaus 1150 ...</td>\n",
              "      <td>168</td>\n",
              "      <td>2015-08-19</td>\n",
              "      <td>8.1</td>\n",
              "      <td>Atlantis Hotel Vienna</td>\n",
              "      <td>62</td>\n",
              "      <td>The ac was useless It was a hot week in vienn...</td>\n",
              "      <td>19</td>\n",
              "      <td>2823</td>\n",
              "      <td>No Positive</td>\n",
              "      <td>0</td>\n",
              "      <td>3</td>\n",
              "      <td>0</td>\n",
              "      <td>[' Leisure trip ', ' Family with older childre...</td>\n",
              "      <td>715</td>\n",
              "      <td>48.203745</td>\n",
              "      <td>16.335677</td>\n",
              "      <td>2015</td>\n",
              "      <td>8</td>\n",
              "      <td>19</td>\n",
              "    </tr>\n",
              "    <tr>\n",
              "      <th>515736</th>\n",
              "      <td>Wurzbachgasse 21 15 Rudolfsheim F nfhaus 1150 ...</td>\n",
              "      <td>168</td>\n",
              "      <td>2015-08-17</td>\n",
              "      <td>8.1</td>\n",
              "      <td>Atlantis Hotel Vienna</td>\n",
              "      <td>133</td>\n",
              "      <td>No Negative</td>\n",
              "      <td>0</td>\n",
              "      <td>2823</td>\n",
              "      <td>The rooms are enormous and really comfortable...</td>\n",
              "      <td>25</td>\n",
              "      <td>3</td>\n",
              "      <td>0</td>\n",
              "      <td>[' Leisure trip ', ' Group ', ' Standard Tripl...</td>\n",
              "      <td>717</td>\n",
              "      <td>48.203745</td>\n",
              "      <td>16.335677</td>\n",
              "      <td>2015</td>\n",
              "      <td>8</td>\n",
              "      <td>17</td>\n",
              "    </tr>\n",
              "    <tr>\n",
              "      <th>515737</th>\n",
              "      <td>Wurzbachgasse 21 15 Rudolfsheim F nfhaus 1150 ...</td>\n",
              "      <td>168</td>\n",
              "      <td>2015-08-09</td>\n",
              "      <td>8.1</td>\n",
              "      <td>Atlantis Hotel Vienna</td>\n",
              "      <td>92</td>\n",
              "      <td>I was in 3rd floor It didn t work Free Wife</td>\n",
              "      <td>13</td>\n",
              "      <td>2823</td>\n",
              "      <td>staff was very kind</td>\n",
              "      <td>6</td>\n",
              "      <td>1</td>\n",
              "      <td>0</td>\n",
              "      <td>[' Leisure trip ', ' Family with young childre...</td>\n",
              "      <td>725</td>\n",
              "      <td>48.203745</td>\n",
              "      <td>16.335677</td>\n",
              "      <td>2015</td>\n",
              "      <td>8</td>\n",
              "      <td>9</td>\n",
              "    </tr>\n",
              "  </tbody>\n",
              "</table>\n",
              "<p>515738 rows × 20 columns</p>\n",
              "</div>\n",
              "      <button class=\"colab-df-convert\" onclick=\"convertToInteractive('df-3dacdf2f-a6bb-41eb-b935-600b33f17327')\"\n",
              "              title=\"Convert this dataframe to an interactive table.\"\n",
              "              style=\"display:none;\">\n",
              "        \n",
              "  <svg xmlns=\"http://www.w3.org/2000/svg\" height=\"24px\"viewBox=\"0 0 24 24\"\n",
              "       width=\"24px\">\n",
              "    <path d=\"M0 0h24v24H0V0z\" fill=\"none\"/>\n",
              "    <path d=\"M18.56 5.44l.94 2.06.94-2.06 2.06-.94-2.06-.94-.94-2.06-.94 2.06-2.06.94zm-11 1L8.5 8.5l.94-2.06 2.06-.94-2.06-.94L8.5 2.5l-.94 2.06-2.06.94zm10 10l.94 2.06.94-2.06 2.06-.94-2.06-.94-.94-2.06-.94 2.06-2.06.94z\"/><path d=\"M17.41 7.96l-1.37-1.37c-.4-.4-.92-.59-1.43-.59-.52 0-1.04.2-1.43.59L10.3 9.45l-7.72 7.72c-.78.78-.78 2.05 0 2.83L4 21.41c.39.39.9.59 1.41.59.51 0 1.02-.2 1.41-.59l7.78-7.78 2.81-2.81c.8-.78.8-2.07 0-2.86zM5.41 20L4 18.59l7.72-7.72 1.47 1.35L5.41 20z\"/>\n",
              "  </svg>\n",
              "      </button>\n",
              "      \n",
              "  <style>\n",
              "    .colab-df-container {\n",
              "      display:flex;\n",
              "      flex-wrap:wrap;\n",
              "      gap: 12px;\n",
              "    }\n",
              "\n",
              "    .colab-df-convert {\n",
              "      background-color: #E8F0FE;\n",
              "      border: none;\n",
              "      border-radius: 50%;\n",
              "      cursor: pointer;\n",
              "      display: none;\n",
              "      fill: #1967D2;\n",
              "      height: 32px;\n",
              "      padding: 0 0 0 0;\n",
              "      width: 32px;\n",
              "    }\n",
              "\n",
              "    .colab-df-convert:hover {\n",
              "      background-color: #E2EBFA;\n",
              "      box-shadow: 0px 1px 2px rgba(60, 64, 67, 0.3), 0px 1px 3px 1px rgba(60, 64, 67, 0.15);\n",
              "      fill: #174EA6;\n",
              "    }\n",
              "\n",
              "    [theme=dark] .colab-df-convert {\n",
              "      background-color: #3B4455;\n",
              "      fill: #D2E3FC;\n",
              "    }\n",
              "\n",
              "    [theme=dark] .colab-df-convert:hover {\n",
              "      background-color: #434B5C;\n",
              "      box-shadow: 0px 1px 3px 1px rgba(0, 0, 0, 0.15);\n",
              "      filter: drop-shadow(0px 1px 2px rgba(0, 0, 0, 0.3));\n",
              "      fill: #FFFFFF;\n",
              "    }\n",
              "  </style>\n",
              "\n",
              "      <script>\n",
              "        const buttonEl =\n",
              "          document.querySelector('#df-3dacdf2f-a6bb-41eb-b935-600b33f17327 button.colab-df-convert');\n",
              "        buttonEl.style.display =\n",
              "          google.colab.kernel.accessAllowed ? 'block' : 'none';\n",
              "\n",
              "        async function convertToInteractive(key) {\n",
              "          const element = document.querySelector('#df-3dacdf2f-a6bb-41eb-b935-600b33f17327');\n",
              "          const dataTable =\n",
              "            await google.colab.kernel.invokeFunction('convertToInteractive',\n",
              "                                                     [key], {});\n",
              "          if (!dataTable) return;\n",
              "\n",
              "          const docLinkHtml = 'Like what you see? Visit the ' +\n",
              "            '<a target=\"_blank\" href=https://colab.research.google.com/notebooks/data_table.ipynb>data table notebook</a>'\n",
              "            + ' to learn more about interactive tables.';\n",
              "          element.innerHTML = '';\n",
              "          dataTable['output_type'] = 'display_data';\n",
              "          await google.colab.output.renderOutput(dataTable, element);\n",
              "          const docLink = document.createElement('div');\n",
              "          docLink.innerHTML = docLinkHtml;\n",
              "          element.appendChild(docLink);\n",
              "        }\n",
              "      </script>\n",
              "    </div>\n",
              "  </div>\n",
              "  "
            ]
          },
          "metadata": {},
          "execution_count": 51
        }
      ]
    },
    {
      "cell_type": "markdown",
      "source": [
        "Dropping all non-numeric columns except positive review and negative review"
      ],
      "metadata": {
        "id": "8FTbwNtgKJtJ"
      }
    },
    {
      "cell_type": "markdown",
      "source": [
        "Now that we have converted days_since_review to numeric type, let's take a look at the current non-numeric columns in the dataset"
      ],
      "metadata": {
        "id": "fVrLoO8jKUXb"
      }
    },
    {
      "cell_type": "code",
      "source": [
        "non_numerics = data.select_dtypes(include = ['object']).columns.tolist()\n",
        "non_numerics"
      ],
      "metadata": {
        "colab": {
          "base_uri": "https://localhost:8080/"
        },
        "id": "Z4JA98AhKcT-",
        "outputId": "5c621e5f-5550-40f7-d9b1-80ecc1448a70"
      },
      "execution_count": 52,
      "outputs": [
        {
          "output_type": "execute_result",
          "data": {
            "text/plain": [
              "['Hotel_Address', 'Hotel_Name', 'Negative_Review', 'Positive_Review', 'Tags']"
            ]
          },
          "metadata": {},
          "execution_count": 52
        }
      ]
    },
    {
      "cell_type": "code",
      "source": [
        "#dropping the non numeric columns except Negative_Review and Positive_Review\n",
        "data.drop(['Hotel_Address', 'Review_Date', 'Hotel_Name', 'Tags'], axis=1, inplace=True)"
      ],
      "metadata": {
        "id": "wFDGB-j8L7oL"
      },
      "execution_count": 53,
      "outputs": []
    },
    {
      "cell_type": "code",
      "source": [
        "#the remaining columns in the dataset are\n",
        "cols = data.columns\n",
        "for i in cols:\n",
        "  print(i)"
      ],
      "metadata": {
        "colab": {
          "base_uri": "https://localhost:8080/"
        },
        "id": "lXoV7W1IMRdn",
        "outputId": "9a39a3cb-7a70-4d73-8d51-523136d768e0"
      },
      "execution_count": 54,
      "outputs": [
        {
          "output_type": "stream",
          "name": "stdout",
          "text": [
            "Additional_Number_of_Scoring\n",
            "Average_Score\n",
            "Reviewer_Nationality\n",
            "Negative_Review\n",
            "Review_Total_Negative_Word_Counts\n",
            "Total_Number_of_Reviews\n",
            "Positive_Review\n",
            "Review_Total_Positive_Word_Counts\n",
            "Total_Number_of_Reviews_Reviewer_Has_Given\n",
            "Reviewer_Score\n",
            "days_since_review\n",
            "lat\n",
            "lng\n",
            "year\n",
            "month\n",
            "day\n"
          ]
        }
      ]
    },
    {
      "cell_type": "markdown",
      "source": [
        "Splitting the data in train and test sets"
      ],
      "metadata": {
        "id": "rhYFc1PsH-6w"
      }
    },
    {
      "cell_type": "code",
      "source": [
        "# Randomly sample 10% of the dataframe\n",
        "df = data.sample(frac=0.1)"
      ],
      "metadata": {
        "id": "xBSzR0kMOzNB"
      },
      "execution_count": 55,
      "outputs": []
    },
    {
      "cell_type": "code",
      "source": [
        "print(\"No. of rows in 10% of the dataframe are: \", df.shape[0])"
      ],
      "metadata": {
        "colab": {
          "base_uri": "https://localhost:8080/"
        },
        "id": "MRSRUzMjPApq",
        "outputId": "39b1d03f-d30d-4f3e-839e-70fe9dd8cf81"
      },
      "execution_count": 56,
      "outputs": [
        {
          "output_type": "stream",
          "name": "stdout",
          "text": [
            "No. of rows in 10% of the dataframe are:  51574\n"
          ]
        }
      ]
    },
    {
      "cell_type": "code",
      "source": [
        "#checking for 'not good' and 'good' value counts in the 10% subset of the dataframe\n",
        "df['Reviewer_Score'].value_counts()"
      ],
      "metadata": {
        "colab": {
          "base_uri": "https://localhost:8080/"
        },
        "id": "ouhbZHX4PY1b",
        "outputId": "62848ad8-f225-4a30-9e50-1159daa6ac02"
      },
      "execution_count": 57,
      "outputs": [
        {
          "output_type": "execute_result",
          "data": {
            "text/plain": [
              "0    26936\n",
              "1    24638\n",
              "Name: Reviewer_Score, dtype: int64"
            ]
          },
          "metadata": {},
          "execution_count": 57
        }
      ]
    },
    {
      "cell_type": "code",
      "source": [
        "# store data in X and y\n",
        "#X contains our features\n",
        "#y contains binary target variable Reviewer_Score\n",
        "X = df.loc[:, df.columns != 'Reviewer_Score']\n",
        "y = df['Reviewer_Score']"
      ],
      "metadata": {
        "id": "1qNU4DygJFOG"
      },
      "execution_count": 58,
      "outputs": []
    },
    {
      "cell_type": "code",
      "source": [
        "#splitting the dataset into train and test\n",
        "\n",
        "from sklearn.model_selection import train_test_split\n",
        "\n",
        "X_train, X_test, y_train, y_test = train_test_split(X, y, test_size=0.33, random_state=42)\n"
      ],
      "metadata": {
        "id": "8Dh4D95uJvbB"
      },
      "execution_count": 59,
      "outputs": []
    },
    {
      "cell_type": "markdown",
      "source": [
        "Vecotrizing Positive and Negative Reivews using Count Vecotrizer"
      ],
      "metadata": {
        "id": "kuRC3jXiJtMX"
      }
    },
    {
      "cell_type": "code",
      "source": [
        "#importing count vectorizer\n",
        "from sklearn.feature_extraction.text import CountVectorizer\n",
        "\n",
        "#All english stopwords will be eliminated\n",
        "#All words that occur less than 30% of the times will be eliminated, this helps clean the data and saves space by reducing the size of sparse matrix\n",
        "bagofwords = CountVectorizer(stop_words=\"english\", min_df=0.2)\n"
      ],
      "metadata": {
        "id": "eNmsGPAIL9yw"
      },
      "execution_count": 83,
      "outputs": []
    },
    {
      "cell_type": "markdown",
      "source": [
        "Vectorizing Postivie_Reviews"
      ],
      "metadata": {
        "id": "x_xKPRH-NzQo"
      }
    },
    {
      "cell_type": "code",
      "source": [
        "# Fit count vectorizer on positive review\n",
        "bagofwords.fit(X_train['Positive_Review'])\n",
        "\n",
        "# 3. Transform Positive Review from Train Set\n",
        "positive_review_train = bagofwords.transform(X_train['Positive_Review'])\n",
        "positive_review_train"
      ],
      "metadata": {
        "colab": {
          "base_uri": "https://localhost:8080/"
        },
        "id": "ZtkPaI5iMRWj",
        "outputId": "cd627d78-40d7-41cd-8a2d-86e5e2fe246c"
      },
      "execution_count": 84,
      "outputs": [
        {
          "output_type": "execute_result",
          "data": {
            "text/plain": [
              "<34554x3 sparse matrix of type '<class 'numpy.int64'>'\n",
              "\twith 33328 stored elements in Compressed Sparse Row format>"
            ]
          },
          "metadata": {},
          "execution_count": 84
        }
      ]
    },
    {
      "cell_type": "code",
      "source": [
        "#taking a look at top n most frequent words in positive reviews columns\n",
        "word_counts = pd.DataFrame(\n",
        "    {\"counts\": positive_review_train.toarray().sum(axis=0)},\n",
        "    index=bagofwords.get_feature_names()\n",
        ").sort_values(\"counts\", ascending=False)\n",
        "\n",
        "word_counts.head(20).plot(kind=\"bar\", figsize=(15, 5), legend=False)\n",
        "plt.title(\"Most frequently occurring words in Positive Review column\")\n",
        "plt.ylabel(\"Count\")\n",
        "plt.xticks(rotation=45)\n",
        "plt.show()"
      ],
      "metadata": {
        "colab": {
          "base_uri": "https://localhost:8080/",
          "height": 398
        },
        "id": "3mUOcH5LQxjv",
        "outputId": "0d7a451a-6f3e-462f-f34a-aca304eb6652"
      },
      "execution_count": 85,
      "outputs": [
        {
          "output_type": "stream",
          "name": "stderr",
          "text": [
            "/usr/local/lib/python3.7/dist-packages/sklearn/utils/deprecation.py:87: FutureWarning: Function get_feature_names is deprecated; get_feature_names is deprecated in 1.0 and will be removed in 1.2. Please use get_feature_names_out instead.\n",
            "  warnings.warn(msg, category=FutureWarning)\n"
          ]
        },
        {
          "output_type": "display_data",
          "data": {
            "text/plain": [
              "<Figure size 1080x360 with 1 Axes>"
            ],
            "image/png": "[encoded data removed]"
          },
          "metadata": {
            "needs_background": "light"
          }
        }
      ]
    },
    {
      "cell_type": "markdown",
      "source": [
        "Vectorizing Negative_Reviews"
      ],
      "metadata": {
        "id": "0aZFSOOyZUSw"
      }
    },
    {
      "cell_type": "code",
      "source": [
        "# Fit count vectorizer on positive review\n",
        "bagofwords.fit(X_train['Negative_Review'])\n",
        "\n",
        "# 3. Transform Positive Review from Train Set\n",
        "negative_review_train = bagofwords.transform(X_train['Negative_Review'])\n",
        "negative_review_train"
      ],
      "metadata": {
        "colab": {
          "base_uri": "https://localhost:8080/"
        },
        "id": "K3XqyzoUZW4A",
        "outputId": "b22120c3-3194-44ef-ab98-6856291a1a14"
      },
      "execution_count": 86,
      "outputs": [
        {
          "output_type": "execute_result",
          "data": {
            "text/plain": [
              "<34554x2 sparse matrix of type '<class 'numpy.int64'>'\n",
              "\twith 16996 stored elements in Compressed Sparse Row format>"
            ]
          },
          "metadata": {},
          "execution_count": 86
        }
      ]
    },
    {
      "cell_type": "code",
      "source": [
        "#taking a look at top n most frequent words in negative reviews columns\n",
        "word_counts = pd.DataFrame(\n",
        "    {\"counts\": negative_review_train.toarray().sum(axis=0)},\n",
        "    index=bagofwords.get_feature_names()\n",
        ").sort_values(\"counts\", ascending=False)\n",
        "\n",
        "word_counts.head(20).plot(kind=\"bar\", figsize=(15, 5), legend=False)\n",
        "plt.title(\"Most frequently occurring words in Negative Review column\")\n",
        "plt.ylabel(\"Count\")\n",
        "plt.xticks(rotation=45)\n",
        "plt.show()"
      ],
      "metadata": {
        "colab": {
          "base_uri": "https://localhost:8080/",
          "height": 401
        },
        "id": "PXTCRYShZ2SJ",
        "outputId": "876c97aa-090f-4675-9848-3b1d806c46bd"
      },
      "execution_count": 87,
      "outputs": [
        {
          "output_type": "stream",
          "name": "stderr",
          "text": [
            "/usr/local/lib/python3.7/dist-packages/sklearn/utils/deprecation.py:87: FutureWarning: Function get_feature_names is deprecated; get_feature_names is deprecated in 1.0 and will be removed in 1.2. Please use get_feature_names_out instead.\n",
            "  warnings.warn(msg, category=FutureWarning)\n"
          ]
        },
        {
          "output_type": "display_data",
          "data": {
            "text/plain": [
              "<Figure size 1080x360 with 1 Axes>"
            ],
            "image/png": "[encoded data removed]"
          },
          "metadata": {
            "needs_background": "light"
          }
        }
      ]
    },
    {
      "cell_type": "markdown",
      "source": [
        "Setting min_df = 0.2 removes all terms that appear in less than 20% of the columns. We get very few terms as a result hence the min_df needs to be adjusted"
      ],
      "metadata": {
        "id": "6v0WqnG8jftF"
      }
    },
    {
      "cell_type": "code",
      "source": [
        "#setting min_df = 0.1\n",
        "bagofwords = CountVectorizer(stop_words=\"english\", min_df=0.1)"
      ],
      "metadata": {
        "id": "e0s8hyv-jrxB"
      },
      "execution_count": 89,
      "outputs": []
    },
    {
      "cell_type": "code",
      "source": [
        "# Fit count vectorizer on positive review\n",
        "bagofwords.fit(X_train['Positive_Review'])\n",
        "\n",
        "# 3. Transform Positive Review from Train Set\n",
        "positive_review_train = bagofwords.transform(X_train['Positive_Review'])\n",
        "positive_review_train"
      ],
      "metadata": {
        "colab": {
          "base_uri": "https://localhost:8080/"
        },
        "id": "ms-X2vFckSkN",
        "outputId": "f1ca77dd-6933-415e-cabd-01b9e72b3ef5"
      },
      "execution_count": 90,
      "outputs": [
        {
          "output_type": "execute_result",
          "data": {
            "text/plain": [
              "<34554x13 sparse matrix of type '<class 'numpy.int64'>'\n",
              "\twith 85566 stored elements in Compressed Sparse Row format>"
            ]
          },
          "metadata": {},
          "execution_count": 90
        }
      ]
    },
    {
      "cell_type": "code",
      "source": [
        "#taking a look at top n most frequent words in positive reviews columns\n",
        "word_counts = pd.DataFrame(\n",
        "    {\"counts\": positive_review_train.toarray().sum(axis=0)},\n",
        "    index=bagofwords.get_feature_names()\n",
        ").sort_values(\"counts\", ascending=False)\n",
        "\n",
        "word_counts.head(20).plot(kind=\"bar\", figsize=(15, 5), legend=False)\n",
        "plt.title(\"Most frequently occurring words in Positive Review column\")\n",
        "plt.ylabel(\"Count\")\n",
        "plt.xticks(rotation=45)\n",
        "plt.show()"
      ],
      "metadata": {
        "colab": {
          "base_uri": "https://localhost:8080/",
          "height": 411
        },
        "id": "my7n-RxmkWQ4",
        "outputId": "435bf2eb-f8a3-494b-8b16-07e5513868ed"
      },
      "execution_count": 91,
      "outputs": [
        {
          "output_type": "stream",
          "name": "stderr",
          "text": [
            "/usr/local/lib/python3.7/dist-packages/sklearn/utils/deprecation.py:87: FutureWarning: Function get_feature_names is deprecated; get_feature_names is deprecated in 1.0 and will be removed in 1.2. Please use get_feature_names_out instead.\n",
            "  warnings.warn(msg, category=FutureWarning)\n"
          ]
        },
        {
          "output_type": "display_data",
          "data": {
            "text/plain": [
              "<Figure size 1080x360 with 1 Axes>"
            ],
            "image/png": "[encoded data removed]"
          },
          "metadata": {
            "needs_background": "light"
          }
        }
      ]
    },
    {
      "cell_type": "code",
      "source": [
        "# Fit count vectorizer on positive review\n",
        "bagofwords.fit(X_train['Negative_Review'])\n",
        "\n",
        "# 3. Transform Positive Review from Train Set\n",
        "negative_review_train = bagofwords.transform(X_train['Negative_Review'])\n",
        "negative_review_train"
      ],
      "metadata": {
        "colab": {
          "base_uri": "https://localhost:8080/"
        },
        "id": "nUnLXTQikZ39",
        "outputId": "8fabf38a-986a-4b64-d48f-c540d86f6cc1"
      },
      "execution_count": 92,
      "outputs": [
        {
          "output_type": "execute_result",
          "data": {
            "text/plain": [
              "<34554x3 sparse matrix of type '<class 'numpy.int64'>'\n",
              "\twith 20670 stored elements in Compressed Sparse Row format>"
            ]
          },
          "metadata": {},
          "execution_count": 92
        }
      ]
    },
    {
      "cell_type": "code",
      "source": [
        "#taking a look at top n most frequent words in negative reviews columns\n",
        "word_counts = pd.DataFrame(\n",
        "    {\"counts\": negative_review_train.toarray().sum(axis=0)},\n",
        "    index=bagofwords.get_feature_names()\n",
        ").sort_values(\"counts\", ascending=False)\n",
        "\n",
        "word_counts.head(20).plot(kind=\"bar\", figsize=(15, 5), legend=False)\n",
        "plt.title(\"Most frequently occurring words in Negative Review column\")\n",
        "plt.ylabel(\"Count\")\n",
        "plt.xticks(rotation=45)\n",
        "plt.show()"
      ],
      "metadata": {
        "colab": {
          "base_uri": "https://localhost:8080/",
          "height": 401
        },
        "id": "3xqz-8cjkfdx",
        "outputId": "14da1404-3cb8-47e4-cbff-12c79ed1e13f"
      },
      "execution_count": 93,
      "outputs": [
        {
          "output_type": "stream",
          "name": "stderr",
          "text": [
            "/usr/local/lib/python3.7/dist-packages/sklearn/utils/deprecation.py:87: FutureWarning: Function get_feature_names is deprecated; get_feature_names is deprecated in 1.0 and will be removed in 1.2. Please use get_feature_names_out instead.\n",
            "  warnings.warn(msg, category=FutureWarning)\n"
          ]
        },
        {
          "output_type": "display_data",
          "data": {
            "text/plain": [
              "<Figure size 1080x360 with 1 Axes>"
            ],
            "image/png": "[encoded data removed]"
          },
          "metadata": {
            "needs_background": "light"
          }
        }
      ]
    },
    {
      "cell_type": "markdown",
      "source": [
        "Setting min_df = 0.1 did give us relevant and good amount of terms for the positive reviews. However still for the negative reviews, we only get 3 terms. We will have to adjust min_df further"
      ],
      "metadata": {
        "id": "KAxakaeblOJC"
      }
    },
    {
      "cell_type": "markdown",
      "source": [
        "Setting min_df = 0.03"
      ],
      "metadata": {
        "id": "8P3F7whOlauA"
      }
    },
    {
      "cell_type": "code",
      "source": [
        "#setting min_df = 0.03\n",
        "bagofwords = CountVectorizer(stop_words=\"english\", min_df=0.03)"
      ],
      "metadata": {
        "id": "U8PioTUElkTy"
      },
      "execution_count": 95,
      "outputs": []
    },
    {
      "cell_type": "code",
      "source": [
        "# Fit count vectorizer on positive review\n",
        "bagofwords.fit(X_train['Positive_Review'])\n",
        "\n",
        "# 3. Transform Positive Review from Train Set\n",
        "positive_review_train = bagofwords.transform(X_train['Positive_Review'])\n",
        "positive_review_train"
      ],
      "metadata": {
        "colab": {
          "base_uri": "https://localhost:8080/"
        },
        "outputId": "0308b076-0a5b-4d25-9a0e-e9c3017520a8",
        "id": "VqDSKKfClkT0"
      },
      "execution_count": 96,
      "outputs": [
        {
          "output_type": "execute_result",
          "data": {
            "text/plain": [
              "<34554x35 sparse matrix of type '<class 'numpy.int64'>'\n",
              "\twith 121364 stored elements in Compressed Sparse Row format>"
            ]
          },
          "metadata": {},
          "execution_count": 96
        }
      ]
    },
    {
      "cell_type": "code",
      "source": [
        "#taking a look at top n most frequent words in positive reviews columns\n",
        "word_counts = pd.DataFrame(\n",
        "    {\"counts\": positive_review_train.toarray().sum(axis=0)},\n",
        "    index=bagofwords.get_feature_names()\n",
        ").sort_values(\"counts\", ascending=False)\n",
        "\n",
        "word_counts.head(20).plot(kind=\"bar\", figsize=(15, 5), legend=False)\n",
        "plt.title(\"Most frequently occurring words in Positive Review column\")\n",
        "plt.ylabel(\"Count\")\n",
        "plt.xticks(rotation=45)\n",
        "plt.show()"
      ],
      "metadata": {
        "colab": {
          "base_uri": "https://localhost:8080/",
          "height": 411
        },
        "outputId": "51da68f0-2590-4041-dab0-99f4af75ae90",
        "id": "F1bg4J3-lkT2"
      },
      "execution_count": 97,
      "outputs": [
        {
          "output_type": "stream",
          "name": "stderr",
          "text": [
            "/usr/local/lib/python3.7/dist-packages/sklearn/utils/deprecation.py:87: FutureWarning: Function get_feature_names is deprecated; get_feature_names is deprecated in 1.0 and will be removed in 1.2. Please use get_feature_names_out instead.\n",
            "  warnings.warn(msg, category=FutureWarning)\n"
          ]
        },
        {
          "output_type": "display_data",
          "data": {
            "text/plain": [
              "<Figure size 1080x360 with 1 Axes>"
            ],
            "image/png": "[encoded data removed]"
          },
          "metadata": {
            "needs_background": "light"
          }
        }
      ]
    },
    {
      "cell_type": "code",
      "source": [
        "# Fit count vectorizer on positive review\n",
        "bagofwords.fit(X_train['Negative_Review'])\n",
        "\n",
        "# 3. Transform Positive Review from Train Set\n",
        "negative_review_train = bagofwords.transform(X_train['Negative_Review'])\n",
        "negative_review_train"
      ],
      "metadata": {
        "colab": {
          "base_uri": "https://localhost:8080/"
        },
        "outputId": "449bd532-264e-409e-94b5-0de1f9fe9970",
        "id": "dk6NQ9iDlkT4"
      },
      "execution_count": 98,
      "outputs": [
        {
          "output_type": "execute_result",
          "data": {
            "text/plain": [
              "<34554x22 sparse matrix of type '<class 'numpy.int64'>'\n",
              "\twith 51821 stored elements in Compressed Sparse Row format>"
            ]
          },
          "metadata": {},
          "execution_count": 98
        }
      ]
    },
    {
      "cell_type": "code",
      "source": [
        "#taking a look at top n most frequent words in negative reviews columns\n",
        "word_counts = pd.DataFrame(\n",
        "    {\"counts\": negative_review_train.toarray().sum(axis=0)},\n",
        "    index=bagofwords.get_feature_names()\n",
        ").sort_values(\"counts\", ascending=False)\n",
        "\n",
        "word_counts.head(20).plot(kind=\"bar\", figsize=(15, 5), legend=False)\n",
        "plt.title(\"Most frequently occurring words in Negative Review column\")\n",
        "plt.ylabel(\"Count\")\n",
        "plt.xticks(rotation=45)\n",
        "plt.show()"
      ],
      "metadata": {
        "colab": {
          "base_uri": "https://localhost:8080/",
          "height": 404
        },
        "outputId": "797d5ca0-10f5-4ca0-8aa9-f7b63d43e4cd",
        "id": "3hLHJNuTlkT5"
      },
      "execution_count": 99,
      "outputs": [
        {
          "output_type": "stream",
          "name": "stderr",
          "text": [
            "/usr/local/lib/python3.7/dist-packages/sklearn/utils/deprecation.py:87: FutureWarning: Function get_feature_names is deprecated; get_feature_names is deprecated in 1.0 and will be removed in 1.2. Please use get_feature_names_out instead.\n",
            "  warnings.warn(msg, category=FutureWarning)\n"
          ]
        },
        {
          "output_type": "display_data",
          "data": {
            "text/plain": [
              "<Figure size 1080x360 with 1 Axes>"
            ],
            "image/png": "[encoded data removed]"
          },
          "metadata": {
            "needs_background": "light"
          }
        }
      ]
    },
    {
      "cell_type": "markdown",
      "source": [
        "As it can be seen, setting min_df = 0.03 gives a good amount of relevant terms for both positive and negative reviews"
      ],
      "metadata": {
        "id": "tbIvW2-Rl7jR"
      }
    },
    {
      "cell_type": "markdown",
      "source": [
        "Transforming the test sets as well"
      ],
      "metadata": {
        "id": "c2IEngroaLoW"
      }
    },
    {
      "cell_type": "code",
      "source": [
        "positive_review_test = bagofwords.transform(X_test['Positive_Review'])\n",
        "negative_review_test = bagofwords.transform(X_test['Negative_Review'])\n"
      ],
      "metadata": {
        "id": "KES3Poj8YunZ"
      },
      "execution_count": 100,
      "outputs": []
    },
    {
      "cell_type": "code",
      "source": [
        "#converting the sparse matrices to numpy arrays\n",
        "\n",
        "#train\n",
        "positive_review_train.toarray()\n",
        "negative_review_train.toarray()\n",
        "\n",
        "#test\n",
        "positive_review_test.toarray()\n",
        "negative_review_test.toarray()\n"
      ],
      "metadata": {
        "colab": {
          "base_uri": "https://localhost:8080/"
        },
        "id": "lYZ1cZYkiEJI",
        "outputId": "0c9d904e-3a7a-4313-d35e-a260531f2c53"
      },
      "execution_count": 101,
      "outputs": [
        {
          "output_type": "execute_result",
          "data": {
            "text/plain": [
              "array([[0, 0, 0, ..., 0, 1, 0],\n",
              "       [0, 1, 0, ..., 0, 0, 0],\n",
              "       [0, 0, 0, ..., 0, 0, 0],\n",
              "       ...,\n",
              "       [0, 0, 0, ..., 0, 0, 1],\n",
              "       [0, 0, 0, ..., 0, 0, 0],\n",
              "       [0, 0, 0, ..., 0, 0, 0]])"
            ]
          },
          "metadata": {},
          "execution_count": 101
        }
      ]
    },
    {
      "cell_type": "code",
      "source": [
        "#getting the numerical data into a separate matrix\n",
        "numerical_data_train = X_train.drop(['Positive_Review', 'Negative_Review'], axis=1)\n",
        "#convert into matrix\n",
        "numerical_data_train = numerical_data_train.values"
      ],
      "metadata": {
        "id": "b6OsdGjlku8G"
      },
      "execution_count": 102,
      "outputs": []
    },
    {
      "cell_type": "markdown",
      "source": [
        "At this point we have obtained our three matrices:\n",
        "\n",
        "Numerical Data\n",
        "\n",
        "Vectorized Positive Reviews\n",
        "\n",
        "Vectorized Negative Reviews\n",
        "\n"
      ],
      "metadata": {
        "id": "DdnsxJhHt2iW"
      }
    },
    {
      "cell_type": "markdown",
      "source": [
        "Combining the three matrices for training dataset"
      ],
      "metadata": {
        "id": "-u00lsSXuW-2"
      }
    },
    {
      "cell_type": "code",
      "source": [
        "combined_matrices_train = np.concatenate((numerical_data_train, positive_review_train, negative_review_train), axis=None)\n",
        "combined_matrices_train"
      ],
      "metadata": {
        "colab": {
          "base_uri": "https://localhost:8080/"
        },
        "id": "Im8H7t9euYom",
        "outputId": "ec11e0da-3428-41ba-dc00-b3c2a6cc2b10"
      },
      "execution_count": 103,
      "outputs": [
        {
          "output_type": "execute_result",
          "data": {
            "text/plain": [
              "array([542.0, 8.2, 216.0, ..., 14.0,\n",
              "       <34554x35 sparse matrix of type '<class 'numpy.int64'>'\n",
              "       \twith 121364 stored elements in Compressed Sparse Row format>,\n",
              "       <34554x22 sparse matrix of type '<class 'numpy.int64'>'\n",
              "       \twith 51821 stored elements in Compressed Sparse Row format>],\n",
              "      dtype=object)"
            ]
          },
          "metadata": {},
          "execution_count": 103
        }
      ]
    },
    {
      "cell_type": "markdown",
      "source": [
        "Doing the same for test data"
      ],
      "metadata": {
        "id": "m-TPzSVQu8RX"
      }
    },
    {
      "cell_type": "code",
      "source": [
        "#getting the numerical data into a separate matrix\n",
        "numerical_data_test = X_test.drop(['Positive_Review', 'Negative_Review'], axis=1)\n",
        "#convert into matrix\n",
        "numerical_data_test = numerical_data_test.values"
      ],
      "metadata": {
        "id": "mGHVkPCIu9wa"
      },
      "execution_count": 104,
      "outputs": []
    },
    {
      "cell_type": "code",
      "source": [
        "combined_matrices_test = np.concatenate((numerical_data_test, positive_review_test, negative_review_test), axis=None)\n",
        "combined_matrices_test"
      ],
      "metadata": {
        "colab": {
          "base_uri": "https://localhost:8080/"
        },
        "id": "DMNjSNRAvUN_",
        "outputId": "2d760dd8-f6da-4a5e-864f-5394819e2c35"
      },
      "execution_count": 105,
      "outputs": [
        {
          "output_type": "execute_result",
          "data": {
            "text/plain": [
              "array([1322.0, 8.4, 214.0, ..., 1.0,\n",
              "       <17020x22 sparse matrix of type '<class 'numpy.int64'>'\n",
              "       \twith 28176 stored elements in Compressed Sparse Row format>,\n",
              "       <17020x22 sparse matrix of type '<class 'numpy.int64'>'\n",
              "       \twith 25130 stored elements in Compressed Sparse Row format>],\n",
              "      dtype=object)"
            ]
          },
          "metadata": {},
          "execution_count": 105
        }
      ]
    },
    {
      "cell_type": "markdown",
      "source": [
        "The purpose of min_df is to remove terms or words that appear too infrequently. For example, if we set min_df = 0.2, it will remove all the terms that appear less than 20% of the times on our document/sentence/column"
      ],
      "metadata": {
        "id": "FDchEpdneVsH"
      }
    }
  ]
}